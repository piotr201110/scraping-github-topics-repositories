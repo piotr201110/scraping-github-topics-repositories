{
 "cells": [
  {
   "cell_type": "markdown",
   "id": "93b90a42",
   "metadata": {},
   "source": [
    "# Scraping Top Repositories for Topics on GitHub\n",
    "## GitHub is a code hosting platform for version control and collaboration\n",
    "### Scraping done with (Python, requests, Beautiful Soup, Pandas)\n",
    "### if not working they probably changed tag classes"
   ]
  },
  {
   "cell_type": "markdown",
   "id": "23a22114",
   "metadata": {},
   "source": [
    "### Project outline:\n",
    "- We're going to scrape https://github.com/topics \n",
    "- We'll get list of topics. For each topic, we'll get topic title, topic page URL and topic description\n",
    "- For each topic, we'll get the top 19(first page) repositories in the topic from the topic page\n",
    "- For each repository, we'll grab repo name, username, stars and repo URL\n",
    "- For each topic we'll create a CSV file in the format:\n",
    "```\n",
    "Repo Name,Username,Stars,Repo URL\n",
    "three.js,mrdoob,91000,https://github.com/mrdoob/three.js\n",
    "react-three-fiber,pmndrs,22300,https://github.com/pmndrs/react-three-fiber\n",
    "```"
   ]
  },
  {
   "cell_type": "markdown",
   "id": "186d02dd",
   "metadata": {},
   "source": [
    "## Scrape the list of topics from Github\n",
    "\n",
    "importing libraries"
   ]
  },
  {
   "cell_type": "code",
   "execution_count": 1,
   "id": "eaf8a42b",
   "metadata": {},
   "outputs": [],
   "source": [
    "import pandas as pd\n",
    "import requests\n",
    "from bs4 import BeautifulSoup\n",
    "import os \n",
    "\n",
    "base_url = 'https://github.com/'"
   ]
  },
  {
   "cell_type": "markdown",
   "id": "7ec627ce",
   "metadata": {},
   "source": [
    "## 1 page has about 20 topics and there are 7 topics pages total\n",
    "`get_topics_page` gets https://github.com/topics/ page html and returns it parsed"
   ]
  },
  {
   "cell_type": "code",
   "execution_count": 2,
   "id": "91f85ad8",
   "metadata": {},
   "outputs": [],
   "source": [
    "def get_topics_page(page = 1):\n",
    "    topics_url = 'https://github.com/topics/?=page' + str(page)\n",
    "    response = requests.get(topics_url)\n",
    "    if response.status_code != 200:\n",
    "        raise Exception('Failed to load page {}'.format(topic_url))\n",
    "    doc = BeautifulSoup(response.text, 'html.parser')\n",
    "    \n",
    "    return doc"
   ]
  },
  {
   "cell_type": "code",
   "execution_count": 3,
   "id": "28b475c4",
   "metadata": {},
   "outputs": [
    {
     "data": {
      "text/plain": [
       "[<p class=\"f4 color-fg-muted col-md-6 mx-auto\">Browse popular topics on GitHub.</p>,\n",
       " <p class=\"f3 lh-condensed text-center Link--primary mb-0 mt-1\">\n",
       "         LaTeX\n",
       "       </p>,\n",
       " <p class=\"f5 color-fg-muted text-center mb-0 mt-1\">LaTeX is a document preparation system.</p>,\n",
       " <p class=\"f3 lh-condensed text-center Link--primary mb-0 mt-1\">\n",
       "         Python\n",
       "       </p>,\n",
       " <p class=\"f5 color-fg-muted text-center mb-0 mt-1\">Python is a dynamically typed programming language.</p>]"
      ]
     },
     "execution_count": 3,
     "metadata": {},
     "output_type": "execute_result"
    }
   ],
   "source": [
    "doc = get_topics_page(1)\n",
    "doc.find_all('p')[:5]"
   ]
  },
  {
   "cell_type": "markdown",
   "id": "05a95e92",
   "metadata": {},
   "source": [
    "To get topic titles, we can pick `p` tags with the `class` 'f3 lh-condensed mb-0 mt-1 Link--primary', as arguments we pass topics html from `get_topics_page`\n"
   ]
  },
  {
   "cell_type": "code",
   "execution_count": 4,
   "id": "f3e99ce0",
   "metadata": {},
   "outputs": [],
   "source": [
    "def get_topic_titles(doc):\n",
    "    selection_class = 'f3 lh-condensed mb-0 mt-1 Link--primary'\n",
    "    topic_title_tags = doc.find_all('p', {'class':selection_class})\n",
    "    topic_titles = []\n",
    "    \n",
    "    for tag in topic_title_tags:\n",
    "        topic_titles.append(tag.text)\n",
    "        \n",
    "    return topic_titles"
   ]
  },
  {
   "cell_type": "code",
   "execution_count": 5,
   "id": "4c96edc0",
   "metadata": {},
   "outputs": [
    {
     "data": {
      "text/plain": [
       "['3D',\n",
       " 'Ajax',\n",
       " 'Algorithm',\n",
       " 'Amp',\n",
       " 'Android',\n",
       " 'Angular',\n",
       " 'Ansible',\n",
       " 'API',\n",
       " 'Arduino',\n",
       " 'ASP.NET',\n",
       " 'Atom',\n",
       " 'Awesome Lists',\n",
       " 'Amazon Web Services',\n",
       " 'Azure',\n",
       " 'Babel',\n",
       " 'Bash',\n",
       " 'Bitcoin',\n",
       " 'Bootstrap',\n",
       " 'Bot',\n",
       " 'C']"
      ]
     },
     "execution_count": 5,
     "metadata": {},
     "output_type": "execute_result"
    }
   ],
   "source": [
    "doc = get_topics_page()\n",
    "titles = get_topic_titles(doc)\n",
    "titles[:20]"
   ]
  },
  {
   "cell_type": "markdown",
   "id": "3323d176",
   "metadata": {},
   "source": [
    "Functions for topic description and url are similiar"
   ]
  },
  {
   "cell_type": "code",
   "execution_count": 6,
   "id": "b9f3ebac",
   "metadata": {},
   "outputs": [],
   "source": [
    "def get_topic_descs(doc):\n",
    "    selection_class = 'f5 color-fg-muted mb-0 mt-1'\n",
    "    topic_desc_tags = doc.find_all('p', {'class':selection_class})\n",
    "    topic_descs = []\n",
    "    \n",
    "    for tag in topic_desc_tags:\n",
    "        topic_descs.append(tag.text.strip())\n",
    "    \n",
    "    return topic_descs"
   ]
  },
  {
   "cell_type": "code",
   "execution_count": 7,
   "id": "2350ae07",
   "metadata": {},
   "outputs": [
    {
     "data": {
      "text/plain": [
       "['3D refers to the use of three-dimensional graphics, modeling, and animation in various industries.',\n",
       " 'Ajax is a technique for creating interactive web applications.',\n",
       " 'Algorithms are self-contained sequences that carry out a variety of tasks.',\n",
       " 'Amp is a non-blocking concurrency library for PHP.',\n",
       " 'Android is an operating system built by Google designed for mobile devices.']"
      ]
     },
     "execution_count": 7,
     "metadata": {},
     "output_type": "execute_result"
    }
   ],
   "source": [
    "doc = get_topics_page()\n",
    "descs = get_topic_descs(doc)\n",
    "descs[:5]"
   ]
  },
  {
   "cell_type": "code",
   "execution_count": 8,
   "id": "b414eb6e",
   "metadata": {},
   "outputs": [],
   "source": [
    "def get_topic_urls(doc):\n",
    "    selection_class = 'no-underline flex-1 d-flex flex-column'\n",
    "    topic_link_tags = doc.find_all('a', {'class':selection_class})\n",
    "    topic_urls = []\n",
    "    \n",
    "    for tag in topic_link_tags:\n",
    "        topic_urls.append(base_url + tag['href'])   \n",
    "    \n",
    "    return topic_urls"
   ]
  },
  {
   "cell_type": "code",
   "execution_count": 9,
   "id": "19833994",
   "metadata": {},
   "outputs": [
    {
     "data": {
      "text/plain": [
       "['https://github.com//topics/3d',\n",
       " 'https://github.com//topics/ajax',\n",
       " 'https://github.com//topics/algorithm',\n",
       " 'https://github.com//topics/amphp',\n",
       " 'https://github.com//topics/android']"
      ]
     },
     "execution_count": 9,
     "metadata": {},
     "output_type": "execute_result"
    }
   ],
   "source": [
    "doc = get_topics_page()\n",
    "urls = get_topic_urls(doc)\n",
    "urls[:5]"
   ]
  },
  {
   "cell_type": "markdown",
   "id": "ad6f3f54",
   "metadata": {},
   "source": [
    "Let's put this all together into a single function, 7th page is last"
   ]
  },
  {
   "cell_type": "code",
   "execution_count": 10,
   "id": "b0d53f5f",
   "metadata": {},
   "outputs": [],
   "source": [
    "def scrape_topics(pages = 1):\n",
    "    i = 1  \n",
    "    topics = []\n",
    "    while(i <= pages):\n",
    "        topics_url = 'https://github.com/topics/?page=' + str(i)\n",
    "        i += 1\n",
    "        response = requests.get(topics_url)\n",
    "        if response.status_code != 200:\n",
    "            raise Exception('Failed to load page {}'.format(topic_url))\n",
    "        doc = BeautifulSoup(response.text, 'html.parser')\n",
    "        \n",
    "        topics_dict = {\n",
    "        'title':get_topic_titles(doc),\n",
    "        'description':get_topic_descs(doc),\n",
    "        'url':get_topic_urls(doc)\n",
    "        }\n",
    "        \n",
    "        topics.append(pd.DataFrame(topics_dict))\n",
    "        \n",
    "    return pd.concat(topics, ignore_index=True)"
   ]
  },
  {
   "cell_type": "code",
   "execution_count": 11,
   "id": "94c48b98",
   "metadata": {},
   "outputs": [
    {
     "data": {
      "text/html": [
       "<div>\n",
       "<style scoped>\n",
       "    .dataframe tbody tr th:only-of-type {\n",
       "        vertical-align: middle;\n",
       "    }\n",
       "\n",
       "    .dataframe tbody tr th {\n",
       "        vertical-align: top;\n",
       "    }\n",
       "\n",
       "    .dataframe thead th {\n",
       "        text-align: right;\n",
       "    }\n",
       "</style>\n",
       "<table border=\"1\" class=\"dataframe\">\n",
       "  <thead>\n",
       "    <tr style=\"text-align: right;\">\n",
       "      <th></th>\n",
       "      <th>title</th>\n",
       "      <th>description</th>\n",
       "      <th>url</th>\n",
       "    </tr>\n",
       "  </thead>\n",
       "  <tbody>\n",
       "    <tr>\n",
       "      <th>0</th>\n",
       "      <td>3D</td>\n",
       "      <td>3D refers to the use of three-dimensional grap...</td>\n",
       "      <td>https://github.com//topics/3d</td>\n",
       "    </tr>\n",
       "    <tr>\n",
       "      <th>1</th>\n",
       "      <td>Ajax</td>\n",
       "      <td>Ajax is a technique for creating interactive w...</td>\n",
       "      <td>https://github.com//topics/ajax</td>\n",
       "    </tr>\n",
       "    <tr>\n",
       "      <th>2</th>\n",
       "      <td>Algorithm</td>\n",
       "      <td>Algorithms are self-contained sequences that c...</td>\n",
       "      <td>https://github.com//topics/algorithm</td>\n",
       "    </tr>\n",
       "    <tr>\n",
       "      <th>3</th>\n",
       "      <td>Amp</td>\n",
       "      <td>Amp is a non-blocking concurrency library for ...</td>\n",
       "      <td>https://github.com//topics/amphp</td>\n",
       "    </tr>\n",
       "    <tr>\n",
       "      <th>4</th>\n",
       "      <td>Android</td>\n",
       "      <td>Android is an operating system built by Google...</td>\n",
       "      <td>https://github.com//topics/android</td>\n",
       "    </tr>\n",
       "    <tr>\n",
       "      <th>...</th>\n",
       "      <td>...</td>\n",
       "      <td>...</td>\n",
       "      <td>...</td>\n",
       "    </tr>\n",
       "    <tr>\n",
       "      <th>85</th>\n",
       "      <td>Kubernetes</td>\n",
       "      <td>Kubernetes is an open source system for automa...</td>\n",
       "      <td>https://github.com//topics/kubernetes</td>\n",
       "    </tr>\n",
       "    <tr>\n",
       "      <th>86</th>\n",
       "      <td>Laravel</td>\n",
       "      <td>The PHP Framework for Web Artisans.</td>\n",
       "      <td>https://github.com//topics/laravel</td>\n",
       "    </tr>\n",
       "    <tr>\n",
       "      <th>87</th>\n",
       "      <td>LaTeX</td>\n",
       "      <td>LaTeX is a document preparation system.</td>\n",
       "      <td>https://github.com//topics/latex</td>\n",
       "    </tr>\n",
       "    <tr>\n",
       "      <th>88</th>\n",
       "      <td>Library</td>\n",
       "      <td>A library is a collection of resources, often ...</td>\n",
       "      <td>https://github.com//topics/library</td>\n",
       "    </tr>\n",
       "    <tr>\n",
       "      <th>89</th>\n",
       "      <td>Linux</td>\n",
       "      <td>Linux is an open source kernel.</td>\n",
       "      <td>https://github.com//topics/linux</td>\n",
       "    </tr>\n",
       "  </tbody>\n",
       "</table>\n",
       "<p>90 rows × 3 columns</p>\n",
       "</div>"
      ],
      "text/plain": [
       "         title                                        description  \\\n",
       "0           3D  3D refers to the use of three-dimensional grap...   \n",
       "1         Ajax  Ajax is a technique for creating interactive w...   \n",
       "2    Algorithm  Algorithms are self-contained sequences that c...   \n",
       "3          Amp  Amp is a non-blocking concurrency library for ...   \n",
       "4      Android  Android is an operating system built by Google...   \n",
       "..         ...                                                ...   \n",
       "85  Kubernetes  Kubernetes is an open source system for automa...   \n",
       "86     Laravel                The PHP Framework for Web Artisans.   \n",
       "87       LaTeX            LaTeX is a document preparation system.   \n",
       "88     Library  A library is a collection of resources, often ...   \n",
       "89       Linux                    Linux is an open source kernel.   \n",
       "\n",
       "                                      url  \n",
       "0           https://github.com//topics/3d  \n",
       "1         https://github.com//topics/ajax  \n",
       "2    https://github.com//topics/algorithm  \n",
       "3        https://github.com//topics/amphp  \n",
       "4      https://github.com//topics/android  \n",
       "..                                    ...  \n",
       "85  https://github.com//topics/kubernetes  \n",
       "86     https://github.com//topics/laravel  \n",
       "87       https://github.com//topics/latex  \n",
       "88     https://github.com//topics/library  \n",
       "89       https://github.com//topics/linux  \n",
       "\n",
       "[90 rows x 3 columns]"
      ]
     },
     "execution_count": 11,
     "metadata": {},
     "output_type": "execute_result"
    }
   ],
   "source": [
    "topics = scrape_topics(3)\n",
    "topics"
   ]
  },
  {
   "cell_type": "markdown",
   "id": "70ec4d26",
   "metadata": {},
   "source": [
    "## Get top 20 repositories from a topic page\n",
    "`get_topic_page` takes topics url as argument, which we can get from `get_topic_urls`, returns parsed topics page html."
   ]
  },
  {
   "cell_type": "code",
   "execution_count": 12,
   "id": "4dc18ee7",
   "metadata": {},
   "outputs": [],
   "source": [
    "def get_topic_page(topic_url):\n",
    "    response = requests.get(topic_url)\n",
    "    if response.status_code != 200:\n",
    "        raise Exception('Failed to load page {}'.format(topic_url))\n",
    "    topic_doc = BeautifulSoup(response.text, 'html.parser')\n",
    "    \n",
    "    return topic_doc"
   ]
  },
  {
   "cell_type": "code",
   "execution_count": 13,
   "id": "4b463d92",
   "metadata": {},
   "outputs": [
    {
     "data": {
      "text/plain": [
       "[<p>Algorithms are detailed sets of guidelines created for a computer program to complete tasks efficiently and thoroughly.</p>,\n",
       " <p class=\"color-fg-muted mb-0\">A complete computer science study plan to become a software engineer.</p>,\n",
       " <p class=\"color-fg-muted mb-0\"><g-emoji alias=\"memo\" class=\"g-emoji\" fallback-src=\"https://github.githubassets.com/images/icons/emoji/unicode/1f4dd.png\">📝</g-emoji> Algorithms and data structures implemented in JavaScript with explanations and links to further readings</p>,\n",
       " <p class=\"color-fg-muted mb-0\"><g-emoji alias=\"books\" class=\"g-emoji\" fallback-src=\"https://github.githubassets.com/images/icons/emoji/unicode/1f4da.png\">📚</g-emoji> 技术面试必备基础知识、Leetcode、计算机操作系统、计算机网络、系统设计</p>,\n",
       " <p class=\"color-fg-muted mb-0\">All Algorithms implemented in Python</p>]"
      ]
     },
     "execution_count": 13,
     "metadata": {},
     "output_type": "execute_result"
    }
   ],
   "source": [
    "algorithm = get_topic_page('https://github.com/topics/algorithm')\n",
    "algorithm.find_all('p')[:5]"
   ]
  },
  {
   "cell_type": "markdown",
   "id": "f0137fd5",
   "metadata": {},
   "source": [
    "`parse_star_count` converts stars into number </br>\n",
    "`get_repo_info` h_tag is parent to a_tags which hold usernae and repo_name, star_tag is for stars"
   ]
  },
  {
   "cell_type": "code",
   "execution_count": 14,
   "id": "f6b73462",
   "metadata": {},
   "outputs": [],
   "source": [
    "def parse_star_count(stars_str):\n",
    "    stars_str = stars_str.strip()\n",
    "    if stars_str[-1] == 'k':\n",
    "        return int(float(stars_str[:-1]) * 1000)\n",
    "    return int(stars_str)\n",
    "\n",
    "def get_repo_info(h_tag, star_tag):\n",
    "    a_tags = h_tag.find_all('a')\n",
    "    username = a_tags[0].text.strip()\n",
    "    repo_name = a_tags[1].text.strip()\n",
    "    repo_url = base_url + a_tags[1]['href']\n",
    "    stars = parse_star_count(star_tag.text.strip())\n",
    "    \n",
    "    return username, repo_name, stars, repo_url"
   ]
  },
  {
   "cell_type": "markdown",
   "id": "caa1b9e1",
   "metadata": {},
   "source": [
    "`get_topic_repos` returns dataframe of top repos for topic"
   ]
  },
  {
   "cell_type": "code",
   "execution_count": 15,
   "id": "6f6c5c9f",
   "metadata": {},
   "outputs": [],
   "source": [
    "def get_topic_repos(topic_doc):\n",
    "      \n",
    "    #get tags\n",
    "    selection_class = 'f3 color-fg-muted text-normal lh-condensed'\n",
    "    repo_tags = topic_doc.find_all('h3',{'class':selection_class})\n",
    "    star_tags = topic_doc.find_all('span',{'class':'Counter js-social-count'})\n",
    "    \n",
    "    topic_repos_dict = {\n",
    "    'username': [],\n",
    "    'repo_name': [],\n",
    "    'stars': [],\n",
    "    'repo_url': []\n",
    "    }\n",
    "    \n",
    "    for i in range(len(repo_tags)):\n",
    "        repo_info = get_repo_info(repo_tags[i], star_tags[i])\n",
    "        topic_repos_dict['username'].append(repo_info[0])\n",
    "        topic_repos_dict['repo_name'].append(repo_info[1])\n",
    "        topic_repos_dict['stars'].append(repo_info[2])\n",
    "        topic_repos_dict['repo_url'].append(repo_info[3])\n",
    "    \n",
    "    return pd.DataFrame(topic_repos_dict)"
   ]
  },
  {
   "cell_type": "code",
   "execution_count": 16,
   "id": "09014468",
   "metadata": {},
   "outputs": [
    {
     "data": {
      "text/html": [
       "<div>\n",
       "<style scoped>\n",
       "    .dataframe tbody tr th:only-of-type {\n",
       "        vertical-align: middle;\n",
       "    }\n",
       "\n",
       "    .dataframe tbody tr th {\n",
       "        vertical-align: top;\n",
       "    }\n",
       "\n",
       "    .dataframe thead th {\n",
       "        text-align: right;\n",
       "    }\n",
       "</style>\n",
       "<table border=\"1\" class=\"dataframe\">\n",
       "  <thead>\n",
       "    <tr style=\"text-align: right;\">\n",
       "      <th></th>\n",
       "      <th>username</th>\n",
       "      <th>repo_name</th>\n",
       "      <th>stars</th>\n",
       "      <th>repo_url</th>\n",
       "    </tr>\n",
       "  </thead>\n",
       "  <tbody>\n",
       "    <tr>\n",
       "      <th>0</th>\n",
       "      <td>jwasham</td>\n",
       "      <td>coding-interview-university</td>\n",
       "      <td>256000</td>\n",
       "      <td>https://github.com//jwasham/coding-interview-u...</td>\n",
       "    </tr>\n",
       "    <tr>\n",
       "      <th>1</th>\n",
       "      <td>trekhleb</td>\n",
       "      <td>javascript-algorithms</td>\n",
       "      <td>169000</td>\n",
       "      <td>https://github.com//trekhleb/javascript-algori...</td>\n",
       "    </tr>\n",
       "    <tr>\n",
       "      <th>2</th>\n",
       "      <td>CyC2018</td>\n",
       "      <td>CS-Notes</td>\n",
       "      <td>164000</td>\n",
       "      <td>https://github.com//CyC2018/CS-Notes</td>\n",
       "    </tr>\n",
       "    <tr>\n",
       "      <th>3</th>\n",
       "      <td>TheAlgorithms</td>\n",
       "      <td>Python</td>\n",
       "      <td>158000</td>\n",
       "      <td>https://github.com//TheAlgorithms/Python</td>\n",
       "    </tr>\n",
       "    <tr>\n",
       "      <th>4</th>\n",
       "      <td>yangshun</td>\n",
       "      <td>tech-interview-handbook</td>\n",
       "      <td>90000</td>\n",
       "      <td>https://github.com//yangshun/tech-interview-ha...</td>\n",
       "    </tr>\n",
       "    <tr>\n",
       "      <th>5</th>\n",
       "      <td>kdn251</td>\n",
       "      <td>interviews</td>\n",
       "      <td>59700</td>\n",
       "      <td>https://github.com//kdn251/interviews</td>\n",
       "    </tr>\n",
       "    <tr>\n",
       "      <th>6</th>\n",
       "      <td>TheAlgorithms</td>\n",
       "      <td>Java</td>\n",
       "      <td>51600</td>\n",
       "      <td>https://github.com//TheAlgorithms/Java</td>\n",
       "    </tr>\n",
       "    <tr>\n",
       "      <th>7</th>\n",
       "      <td>azl397985856</td>\n",
       "      <td>leetcode</td>\n",
       "      <td>51100</td>\n",
       "      <td>https://github.com//azl397985856/leetcode</td>\n",
       "    </tr>\n",
       "    <tr>\n",
       "      <th>8</th>\n",
       "      <td>algorithm-visualizer</td>\n",
       "      <td>algorithm-visualizer</td>\n",
       "      <td>42700</td>\n",
       "      <td>https://github.com//algorithm-visualizer/algor...</td>\n",
       "    </tr>\n",
       "    <tr>\n",
       "      <th>9</th>\n",
       "      <td>youngyangyang04</td>\n",
       "      <td>leetcode-master</td>\n",
       "      <td>38300</td>\n",
       "      <td>https://github.com//youngyangyang04/leetcode-m...</td>\n",
       "    </tr>\n",
       "    <tr>\n",
       "      <th>10</th>\n",
       "      <td>halfrost</td>\n",
       "      <td>LeetCode-Go</td>\n",
       "      <td>29600</td>\n",
       "      <td>https://github.com//halfrost/LeetCode-Go</td>\n",
       "    </tr>\n",
       "    <tr>\n",
       "      <th>11</th>\n",
       "      <td>huihut</td>\n",
       "      <td>interview</td>\n",
       "      <td>28700</td>\n",
       "      <td>https://github.com//huihut/interview</td>\n",
       "    </tr>\n",
       "    <tr>\n",
       "      <th>12</th>\n",
       "      <td>donnemartin</td>\n",
       "      <td>interactive-coding-challenges</td>\n",
       "      <td>27200</td>\n",
       "      <td>https://github.com//donnemartin/interactive-co...</td>\n",
       "    </tr>\n",
       "    <tr>\n",
       "      <th>13</th>\n",
       "      <td>crossoverJie</td>\n",
       "      <td>JCSprout</td>\n",
       "      <td>27000</td>\n",
       "      <td>https://github.com//crossoverJie/JCSprout</td>\n",
       "    </tr>\n",
       "    <tr>\n",
       "      <th>14</th>\n",
       "      <td>TheAlgorithms</td>\n",
       "      <td>JavaScript</td>\n",
       "      <td>26300</td>\n",
       "      <td>https://github.com//TheAlgorithms/JavaScript</td>\n",
       "    </tr>\n",
       "    <tr>\n",
       "      <th>15</th>\n",
       "      <td>TheAlgorithms</td>\n",
       "      <td>C-Plus-Plus</td>\n",
       "      <td>24200</td>\n",
       "      <td>https://github.com//TheAlgorithms/C-Plus-Plus</td>\n",
       "    </tr>\n",
       "    <tr>\n",
       "      <th>16</th>\n",
       "      <td>keon</td>\n",
       "      <td>algorithms</td>\n",
       "      <td>22500</td>\n",
       "      <td>https://github.com//keon/algorithms</td>\n",
       "    </tr>\n",
       "    <tr>\n",
       "      <th>17</th>\n",
       "      <td>trekhleb</td>\n",
       "      <td>homemade-machine-learning</td>\n",
       "      <td>21200</td>\n",
       "      <td>https://github.com//trekhleb/homemade-machine-...</td>\n",
       "    </tr>\n",
       "    <tr>\n",
       "      <th>18</th>\n",
       "      <td>mxgmn</td>\n",
       "      <td>WaveFunctionCollapse</td>\n",
       "      <td>21200</td>\n",
       "      <td>https://github.com//mxgmn/WaveFunctionCollapse</td>\n",
       "    </tr>\n",
       "    <tr>\n",
       "      <th>19</th>\n",
       "      <td>AtsushiSakai</td>\n",
       "      <td>PythonRobotics</td>\n",
       "      <td>18200</td>\n",
       "      <td>https://github.com//AtsushiSakai/PythonRobotics</td>\n",
       "    </tr>\n",
       "  </tbody>\n",
       "</table>\n",
       "</div>"
      ],
      "text/plain": [
       "                username                      repo_name   stars  \\\n",
       "0                jwasham    coding-interview-university  256000   \n",
       "1               trekhleb          javascript-algorithms  169000   \n",
       "2                CyC2018                       CS-Notes  164000   \n",
       "3          TheAlgorithms                         Python  158000   \n",
       "4               yangshun        tech-interview-handbook   90000   \n",
       "5                 kdn251                     interviews   59700   \n",
       "6          TheAlgorithms                           Java   51600   \n",
       "7           azl397985856                       leetcode   51100   \n",
       "8   algorithm-visualizer           algorithm-visualizer   42700   \n",
       "9        youngyangyang04                leetcode-master   38300   \n",
       "10              halfrost                    LeetCode-Go   29600   \n",
       "11                huihut                      interview   28700   \n",
       "12           donnemartin  interactive-coding-challenges   27200   \n",
       "13          crossoverJie                       JCSprout   27000   \n",
       "14         TheAlgorithms                     JavaScript   26300   \n",
       "15         TheAlgorithms                    C-Plus-Plus   24200   \n",
       "16                  keon                     algorithms   22500   \n",
       "17              trekhleb      homemade-machine-learning   21200   \n",
       "18                 mxgmn           WaveFunctionCollapse   21200   \n",
       "19          AtsushiSakai                 PythonRobotics   18200   \n",
       "\n",
       "                                             repo_url  \n",
       "0   https://github.com//jwasham/coding-interview-u...  \n",
       "1   https://github.com//trekhleb/javascript-algori...  \n",
       "2                https://github.com//CyC2018/CS-Notes  \n",
       "3            https://github.com//TheAlgorithms/Python  \n",
       "4   https://github.com//yangshun/tech-interview-ha...  \n",
       "5               https://github.com//kdn251/interviews  \n",
       "6              https://github.com//TheAlgorithms/Java  \n",
       "7           https://github.com//azl397985856/leetcode  \n",
       "8   https://github.com//algorithm-visualizer/algor...  \n",
       "9   https://github.com//youngyangyang04/leetcode-m...  \n",
       "10           https://github.com//halfrost/LeetCode-Go  \n",
       "11               https://github.com//huihut/interview  \n",
       "12  https://github.com//donnemartin/interactive-co...  \n",
       "13          https://github.com//crossoverJie/JCSprout  \n",
       "14       https://github.com//TheAlgorithms/JavaScript  \n",
       "15      https://github.com//TheAlgorithms/C-Plus-Plus  \n",
       "16                https://github.com//keon/algorithms  \n",
       "17  https://github.com//trekhleb/homemade-machine-...  \n",
       "18     https://github.com//mxgmn/WaveFunctionCollapse  \n",
       "19    https://github.com//AtsushiSakai/PythonRobotics  "
      ]
     },
     "execution_count": 16,
     "metadata": {},
     "output_type": "execute_result"
    }
   ],
   "source": [
    "get_topic_repos(algorithm)"
   ]
  },
  {
   "cell_type": "markdown",
   "id": "62b54474",
   "metadata": {},
   "source": [
    "`scrape_topic` saves topic repos as csv to path"
   ]
  },
  {
   "cell_type": "code",
   "execution_count": 17,
   "id": "0fb400cb",
   "metadata": {},
   "outputs": [],
   "source": [
    "def scrape_topic(topic_url, path):\n",
    "    fname = path + '.csv'\n",
    "    if os.path.exists(fname):\n",
    "        print(\"The file {} already exists. Skipping...\".format(fname))\n",
    "        return\n",
    "    topic_df = get_topic_repos(get_topic_page(topic_url))\n",
    "    topic_df.to_csv(fname ,index=None)\n",
    "    "
   ]
  },
  {
   "cell_type": "markdown",
   "id": "74fc681b",
   "metadata": {},
   "source": [
    "## Putting it all together"
   ]
  },
  {
   "cell_type": "code",
   "execution_count": 18,
   "id": "76ef124b",
   "metadata": {},
   "outputs": [],
   "source": [
    "def scrape_topics_repos(pages = 1):\n",
    "    print('Scraping list of topics')\n",
    "    i = 1\n",
    "    while(i <= pages):\n",
    "        topics_df = scrape_topics(i)\n",
    "        i += 1\n",
    "    os.makedirs('github-topics', exist_ok=True)\n",
    "    \n",
    "    for index, row in topics_df.iterrows():\n",
    "        print('Scraping top repositories for \"{}\"'.format(row['title']))\n",
    "        scrape_topic(row['url'], 'github-topics/{}'.format(row['title']))"
   ]
  },
  {
   "cell_type": "markdown",
   "id": "c8222472",
   "metadata": {},
   "source": [
    "Let's run it to scrape the top repos for all the topics on the 2 pages of https://github.com/topics."
   ]
  },
  {
   "cell_type": "code",
   "execution_count": 19,
   "id": "3747f7a4",
   "metadata": {},
   "outputs": [
    {
     "name": "stdout",
     "output_type": "stream",
     "text": [
      "Scraping list of topics\n",
      "Scraping top repositories for \"3D\"\n",
      "The file github-topics/3D.csv already exists. Skipping...\n",
      "Scraping top repositories for \"Ajax\"\n",
      "The file github-topics/Ajax.csv already exists. Skipping...\n",
      "Scraping top repositories for \"Algorithm\"\n",
      "The file github-topics/Algorithm.csv already exists. Skipping...\n",
      "Scraping top repositories for \"Amp\"\n",
      "The file github-topics/Amp.csv already exists. Skipping...\n",
      "Scraping top repositories for \"Android\"\n",
      "The file github-topics/Android.csv already exists. Skipping...\n",
      "Scraping top repositories for \"Angular\"\n",
      "The file github-topics/Angular.csv already exists. Skipping...\n",
      "Scraping top repositories for \"Ansible\"\n",
      "The file github-topics/Ansible.csv already exists. Skipping...\n",
      "Scraping top repositories for \"API\"\n",
      "The file github-topics/API.csv already exists. Skipping...\n",
      "Scraping top repositories for \"Arduino\"\n",
      "The file github-topics/Arduino.csv already exists. Skipping...\n",
      "Scraping top repositories for \"ASP.NET\"\n",
      "The file github-topics/ASP.NET.csv already exists. Skipping...\n",
      "Scraping top repositories for \"Atom\"\n",
      "The file github-topics/Atom.csv already exists. Skipping...\n",
      "Scraping top repositories for \"Awesome Lists\"\n",
      "The file github-topics/Awesome Lists.csv already exists. Skipping...\n",
      "Scraping top repositories for \"Amazon Web Services\"\n",
      "The file github-topics/Amazon Web Services.csv already exists. Skipping...\n",
      "Scraping top repositories for \"Azure\"\n",
      "The file github-topics/Azure.csv already exists. Skipping...\n",
      "Scraping top repositories for \"Babel\"\n",
      "The file github-topics/Babel.csv already exists. Skipping...\n",
      "Scraping top repositories for \"Bash\"\n",
      "The file github-topics/Bash.csv already exists. Skipping...\n",
      "Scraping top repositories for \"Bitcoin\"\n",
      "The file github-topics/Bitcoin.csv already exists. Skipping...\n",
      "Scraping top repositories for \"Bootstrap\"\n",
      "The file github-topics/Bootstrap.csv already exists. Skipping...\n",
      "Scraping top repositories for \"Bot\"\n",
      "The file github-topics/Bot.csv already exists. Skipping...\n",
      "Scraping top repositories for \"C\"\n",
      "The file github-topics/C.csv already exists. Skipping...\n",
      "Scraping top repositories for \"Chrome\"\n",
      "The file github-topics/Chrome.csv already exists. Skipping...\n",
      "Scraping top repositories for \"Chrome extension\"\n",
      "The file github-topics/Chrome extension.csv already exists. Skipping...\n",
      "Scraping top repositories for \"Command line interface\"\n",
      "The file github-topics/Command line interface.csv already exists. Skipping...\n",
      "Scraping top repositories for \"Clojure\"\n",
      "The file github-topics/Clojure.csv already exists. Skipping...\n",
      "Scraping top repositories for \"Code quality\"\n",
      "The file github-topics/Code quality.csv already exists. Skipping...\n",
      "Scraping top repositories for \"Code review\"\n",
      "The file github-topics/Code review.csv already exists. Skipping...\n",
      "Scraping top repositories for \"Compiler\"\n",
      "The file github-topics/Compiler.csv already exists. Skipping...\n",
      "Scraping top repositories for \"Continuous integration\"\n",
      "The file github-topics/Continuous integration.csv already exists. Skipping...\n",
      "Scraping top repositories for \"COVID-19\"\n",
      "The file github-topics/COVID-19.csv already exists. Skipping...\n",
      "Scraping top repositories for \"C++\"\n",
      "The file github-topics/C++.csv already exists. Skipping...\n",
      "Scraping top repositories for \"Cryptocurrency\"\n",
      "The file github-topics/Cryptocurrency.csv already exists. Skipping...\n",
      "Scraping top repositories for \"Crystal\"\n",
      "The file github-topics/Crystal.csv already exists. Skipping...\n",
      "Scraping top repositories for \"C#\"\n",
      "The file github-topics/C#.csv already exists. Skipping...\n",
      "Scraping top repositories for \"CSS\"\n",
      "The file github-topics/CSS.csv already exists. Skipping...\n",
      "Scraping top repositories for \"Data structures\"\n",
      "The file github-topics/Data structures.csv already exists. Skipping...\n",
      "Scraping top repositories for \"Data visualization\"\n",
      "The file github-topics/Data visualization.csv already exists. Skipping...\n",
      "Scraping top repositories for \"Database\"\n",
      "The file github-topics/Database.csv already exists. Skipping...\n",
      "Scraping top repositories for \"Deep learning\"\n",
      "The file github-topics/Deep learning.csv already exists. Skipping...\n",
      "Scraping top repositories for \"Dependency management\"\n",
      "The file github-topics/Dependency management.csv already exists. Skipping...\n",
      "Scraping top repositories for \"Deployment\"\n",
      "The file github-topics/Deployment.csv already exists. Skipping...\n",
      "Scraping top repositories for \"Django\"\n",
      "The file github-topics/Django.csv already exists. Skipping...\n",
      "Scraping top repositories for \"Docker\"\n",
      "The file github-topics/Docker.csv already exists. Skipping...\n",
      "Scraping top repositories for \"Documentation\"\n",
      "The file github-topics/Documentation.csv already exists. Skipping...\n",
      "Scraping top repositories for \".NET\"\n",
      "The file github-topics/.NET.csv already exists. Skipping...\n",
      "Scraping top repositories for \"Electron\"\n",
      "The file github-topics/Electron.csv already exists. Skipping...\n",
      "Scraping top repositories for \"Elixir\"\n",
      "The file github-topics/Elixir.csv already exists. Skipping...\n",
      "Scraping top repositories for \"Emacs\"\n",
      "The file github-topics/Emacs.csv already exists. Skipping...\n",
      "Scraping top repositories for \"Ember\"\n",
      "The file github-topics/Ember.csv already exists. Skipping...\n",
      "Scraping top repositories for \"Emoji\"\n",
      "The file github-topics/Emoji.csv already exists. Skipping...\n",
      "Scraping top repositories for \"Emulator\"\n",
      "The file github-topics/Emulator.csv already exists. Skipping...\n",
      "Scraping top repositories for \"ESLint\"\n",
      "The file github-topics/ESLint.csv already exists. Skipping...\n",
      "Scraping top repositories for \"Ethereum\"\n",
      "The file github-topics/Ethereum.csv already exists. Skipping...\n",
      "Scraping top repositories for \"Express\"\n",
      "The file github-topics/Express.csv already exists. Skipping...\n",
      "Scraping top repositories for \"Firebase\"\n",
      "The file github-topics/Firebase.csv already exists. Skipping...\n",
      "Scraping top repositories for \"Firefox\"\n",
      "The file github-topics/Firefox.csv already exists. Skipping...\n",
      "Scraping top repositories for \"Flask\"\n",
      "The file github-topics/Flask.csv already exists. Skipping...\n",
      "Scraping top repositories for \"Font\"\n",
      "The file github-topics/Font.csv already exists. Skipping...\n",
      "Scraping top repositories for \"Framework\"\n",
      "The file github-topics/Framework.csv already exists. Skipping...\n",
      "Scraping top repositories for \"Front end\"\n",
      "The file github-topics/Front end.csv already exists. Skipping...\n",
      "Scraping top repositories for \"Game engine\"\n",
      "The file github-topics/Game engine.csv already exists. Skipping...\n"
     ]
    }
   ],
   "source": [
    "scrape_topics_repos(2)"
   ]
  }
 ],
 "metadata": {
  "kernelspec": {
   "display_name": "Python 3 (ipykernel)",
   "language": "python",
   "name": "python3"
  },
  "language_info": {
   "codemirror_mode": {
    "name": "ipython",
    "version": 3
   },
   "file_extension": ".py",
   "mimetype": "text/x-python",
   "name": "python",
   "nbconvert_exporter": "python",
   "pygments_lexer": "ipython3",
   "version": "3.9.12"
  }
 },
 "nbformat": 4,
 "nbformat_minor": 5
}
